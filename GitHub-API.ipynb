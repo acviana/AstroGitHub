{
 "metadata": {
  "name": "GitHub-API"
 },
 "nbformat": 3,
 "nbformat_minor": 0,
 "worksheets": [
  {
   "cells": [
    {
     "cell_type": "code",
     "collapsed": false,
     "input": [
      "import string\n",
      "from github import Github\n",
      "g = Github('$USER','$PASSWORD')"
     ],
     "language": "python",
     "metadata": {},
     "outputs": [],
     "prompt_number": 282
    },
    {
     "cell_type": "code",
     "collapsed": false,
     "input": [
      "github_astronomy = g.legacy_search_repos('astronomy')\n",
      "github_space = g.legacy_search_repos('space')\n",
      "github_astro = g.legacy_search_repos('astro')\n",
      "github_astrophysics = g.legacy_search_repos('astrophysics')"
     ],
     "language": "python",
     "metadata": {},
     "outputs": [],
     "prompt_number": 293
    },
    {
     "cell_type": "code",
     "collapsed": false,
     "input": [
      "def get_repo_dict(github_instance):\n",
      "    output_dict = {}\n",
      "    for repo in github_instance:\n",
      "        output_dict[repo.name] = repo._rawData\n",
      "        output_dict[repo.name].update({'updated_at':repo.updated_at})\n",
      "    return output_dict"
     ],
     "language": "python",
     "metadata": {},
     "outputs": [],
     "prompt_number": 294
    },
    {
     "cell_type": "code",
     "collapsed": false,
     "input": [
      "output_dict = get_repo_dict(g.legacy_search_repos('astrophysics'))"
     ],
     "language": "python",
     "metadata": {},
     "outputs": [],
     "prompt_number": 295
    },
    {
     "cell_type": "code",
     "collapsed": false,
     "input": [
      "output_dict.update(get_repo_dict(g.legacy_search_repos('radio astronomy')))"
     ],
     "language": "python",
     "metadata": {},
     "outputs": [],
     "prompt_number": 318
    },
    {
     "cell_type": "code",
     "collapsed": false,
     "input": [
      "output_dict.update(get_repo_dict(g.legacy_search_repos('cosmology')))"
     ],
     "language": "python",
     "metadata": {},
     "outputs": [],
     "prompt_number": 337
    },
    {
     "cell_type": "code",
     "collapsed": false,
     "input": [
      "output_dict.update(get_repo_dict(g.legacy_search_repos('gamma ray')))"
     ],
     "language": "python",
     "metadata": {},
     "outputs": [],
     "prompt_number": 372
    },
    {
     "cell_type": "code",
     "collapsed": false,
     "input": [
      "output_dict.update(get_repo_dict(g.legacy_search_repos('hubble space telescope')))"
     ],
     "language": "python",
     "metadata": {},
     "outputs": [],
     "prompt_number": 377
    },
    {
     "cell_type": "code",
     "collapsed": false,
     "input": [
      "github_astro = g.legacy_search_repos('astro')"
     ],
     "language": "python",
     "metadata": {},
     "outputs": [],
     "prompt_number": 394
    },
    {
     "cell_type": "code",
     "collapsed": false,
     "input": [
      "def sort_by_key(key):\n",
      "    return sorted(output_dict.iteritems(), key=lambda item: item[1][key], reverse=True)"
     ],
     "language": "python",
     "metadata": {},
     "outputs": [],
     "prompt_number": 395
    },
    {
     "cell_type": "markdown",
     "metadata": {},
     "source": [
      "Basic Analysis\n",
      "--------------"
     ]
    },
    {
     "cell_type": "code",
     "collapsed": false,
     "input": [
      "print 'Total Repos: {}'.format(len(output_dict))"
     ],
     "language": "python",
     "metadata": {},
     "outputs": [
      {
       "output_type": "stream",
       "stream": "stdout",
       "text": [
        "Total Repos: 167\n"
       ]
      }
     ],
     "prompt_number": 396
    },
    {
     "cell_type": "markdown",
     "metadata": {},
     "source": [
      "Top-10 Lists\n",
      "------------"
     ]
    },
    {
     "cell_type": "code",
     "collapsed": false,
     "input": [
      "def print_top_ten(key): \n",
      "    top_ten = ['{} : {}'.format(item[1]['name'],item[1][key]) for item in sort_by_key(key)][0:10]\n",
      "    for item in top_ten:\n",
      "        print item"
     ],
     "language": "python",
     "metadata": {},
     "outputs": [],
     "prompt_number": 397
    },
    {
     "cell_type": "code",
     "collapsed": false,
     "input": [
      "print_top_ten('size')"
     ],
     "language": "python",
     "metadata": {},
     "outputs": [
      {
       "output_type": "stream",
       "stream": "stdout",
       "text": [
        "cosmo-ML : 513412\n",
        "outreach : 202832\n",
        "gICLEAN : 149032\n",
        "estar-project : 75316\n",
        "Ay190 : 70100\n",
        "CosmologyExercise : 60104\n",
        "AstroPhysics : 53328\n",
        "asterisk : 38575\n",
        "carma-miriad : 29145\n",
        "fermi-hero : 28506\n"
       ]
      }
     ],
     "prompt_number": 398
    },
    {
     "cell_type": "code",
     "collapsed": false,
     "input": [
      "print_top_ten('forks')"
     ],
     "language": "python",
     "metadata": {},
     "outputs": [
      {
       "output_type": "stream",
       "stream": "stdout",
       "text": [
        "astroML : 21\n",
        "GammaRay : 16\n",
        "CosmoloPy : 10\n",
        "astropysics : 10\n",
        "astro : 7\n",
        "cosmotools : 5\n",
        "236-Notes : 4\n",
        "diskEvolution : 4\n",
        "xGPU : 3\n",
        "2013-08-23-harvard : 3\n"
       ]
      }
     ],
     "prompt_number": 399
    },
    {
     "cell_type": "code",
     "collapsed": false,
     "input": [
      "print_top_ten('watchers')"
     ],
     "language": "python",
     "metadata": {},
     "outputs": [
      {
       "output_type": "stream",
       "stream": "stdout",
       "text": [
        "GammaRay : 80\n",
        "astroML : 65\n",
        "astropysics : 24\n",
        "CosmoloPy : 16\n",
        "grif : 10\n",
        "DAL1 : 8\n",
        "ccogs : 7\n",
        "cubep3m : 7\n",
        "diskEvolution : 6\n",
        "IRA : 6\n"
       ]
      }
     ],
     "prompt_number": 400
    },
    {
     "cell_type": "code",
     "collapsed": false,
     "input": [
      "print_top_ten('open_issues')"
     ],
     "language": "python",
     "metadata": {},
     "outputs": [
      {
       "output_type": "stream",
       "stream": "stdout",
       "text": [
        "gammapy : 29\n",
        "gamma-speed : 16\n",
        "DAL1 : 13\n",
        "sncosmo : 12\n",
        "fermi-hero : 10\n",
        "GammaRay : 10\n",
        "astroML : 6\n",
        "AstroTaverna-AA-article : 3\n",
        "miriad-python : 3\n",
        "planets : 3\n"
       ]
      }
     ],
     "prompt_number": 401
    },
    {
     "cell_type": "code",
     "collapsed": false,
     "input": [
      "print_top_ten('updated_at')"
     ],
     "language": "python",
     "metadata": {},
     "outputs": [
      {
       "output_type": "stream",
       "stream": "stdout",
       "text": [
        "cosmotools : 2013-09-17 21:34:02\n",
        "ADS_Collab_Map : 2013-09-17 20:49:18\n",
        "cosmoslik : 2013-09-17 20:35:31\n",
        "GammaRay : 2013-09-17 18:15:52\n",
        "RadiogenicHeatProduction : 2013-09-17 17:08:45\n",
        "homebrew-tap : 2013-09-17 16:57:44\n",
        "gICLEAN : 2013-09-17 15:42:11\n",
        "pygrb : 2013-09-17 08:13:03\n",
        "sncosmo : 2013-09-17 03:58:50\n",
        "megalib : 2013-09-16 23:36:00\n"
       ]
      }
     ],
     "prompt_number": 402
    },
    {
     "cell_type": "code",
     "collapsed": false,
     "input": [
      "print output_dict['astroML']"
     ],
     "language": "python",
     "metadata": {},
     "outputs": [
      {
       "output_type": "stream",
       "stream": "stdout",
       "text": [
        "{'fork': False, 'watchers': 65, 'description': u'Machine learning, statistics, and data mining for astronomy and astrophysics', 'language': u'Python', 'has_downloads': True, 'url': u'/repos/astroML/astroML', 'created_at': u'2012-10-17T22:33:50Z', 'updated_at': datetime.datetime(2013, 9, 16, 6, 19, 3), 'private': False, 'name': u'astroML', 'pushed_at': u'2013-08-24T16:22:00Z', 'open_issues': 6, 'has_wiki': True, 'owner': {'url': u'/users/astroML', 'login': u'astroML'}, 'has_issues': True, 'forks': 21, 'homepage': None, 'size': 2245}\n"
       ]
      }
     ],
     "prompt_number": 403
    },
    {
     "cell_type": "markdown",
     "metadata": {},
     "source": [
      "Description Analysis\n",
      "--------------------"
     ]
    },
    {
     "cell_type": "code",
     "collapsed": false,
     "input": [
      "ARTICLES = ['', 'a', 'an', 'at', 'the', 'that', 'this']\n",
      "COMMON = ['as', 'astronomy', 'astrophysics', 'cosmology', 'cosmological']\n",
      "CONJUNCTIONS = ['about', 'and', 'but', 'or']\n",
      "PREPOSITIONS = ['by', 'from', 'for', 'in', 'of', 'on', 'with', 'to']\n",
      "PRONOUNS = ['i', 'it', 'my', 'your']\n",
      "VERBS = ['have', 'is', 'using']\n",
      "SKIP_WORD_LIST = ARTICLES + COMMON + CONJUNCTIONS + PREPOSITIONS + PRONOUNS + VERBS\n",
      "\n",
      "def get_word_dict():\n",
      "    word_dict = {}\n",
      "    for line in output_dict.itervalues():\n",
      "        if line['description'] != None:\n",
      "            for word in line['description'].split():\n",
      "                word = word.encode('ascii','replace')\n",
      "                word = word.translate(None, string.punctuation)\n",
      "                word = word.lower()\n",
      "                if word not in SKIP_WORD_LIST:\n",
      "                    if word_dict.has_key(word):\n",
      "                        word_dict[word] += 1\n",
      "                    else:\n",
      "                        word_dict[word] = 1\n",
      "    return word_dict\n",
      "\n",
      "def plot_tuples(tuples_to_plot):\n",
      "    plt.clf()\n",
      "    plt.grid(True)\n",
      "    plt.plot(range(len(tuples_to_plot)), [item[1] for item in tuples_to_plot], 'r.')\n",
      "    for x, item in enumerate(tuples_to_plot):\n",
      "        plt.text(x, item[1] + 3, item[0], rotation=70)\n",
      "    plt.draw()\n",
      "\n",
      "word_dict = get_word_dict()\n",
      "tuples_to_plot = [item for item in word_dict.iteritems() if item[1] > 3]\n",
      "tuples_to_plot.sort(key=lambda tup: tup[1], reverse=True) "
     ],
     "language": "python",
     "metadata": {},
     "outputs": [],
     "prompt_number": 386
    },
    {
     "cell_type": "code",
     "collapsed": false,
     "input": [
      "%pylab\n",
      "\n"
     ],
     "language": "python",
     "metadata": {},
     "outputs": [
      {
       "output_type": "stream",
       "stream": "stdout",
       "text": [
        "\n",
        "Welcome to pylab, a matplotlib-based Python environment [backend: MacOSX].\n",
        "For more information, type 'help(pylab)'.\n"
       ]
      }
     ],
     "prompt_number": 388
    },
    {
     "cell_type": "code",
     "collapsed": false,
     "input": [],
     "language": "python",
     "metadata": {},
     "outputs": [],
     "prompt_number": 349
    },
    {
     "cell_type": "code",
     "collapsed": false,
     "input": [],
     "language": "python",
     "metadata": {},
     "outputs": []
    }
   ],
   "metadata": {}
  }
 ]
}